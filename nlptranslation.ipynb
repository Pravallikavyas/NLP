{
  "nbformat": 4,
  "nbformat_minor": 0,
  "metadata": {
    "colab": {
      "provenance": [],
      "authorship_tag": "ABX9TyPcrMqZsL/DJ1NhJWl0MZSE",
      "include_colab_link": true
    },
    "kernelspec": {
      "name": "python3",
      "display_name": "Python 3"
    },
    "language_info": {
      "name": "python"
    }
  },
  "cells": [
    {
      "cell_type": "markdown",
      "metadata": {
        "id": "view-in-github",
        "colab_type": "text"
      },
      "source": [
        "<a href=\"https://colab.research.google.com/github/Pravallikavyas/NLP/blob/main/nlptranslation.ipynb\" target=\"_parent\"><img src=\"https://colab.research.google.com/assets/colab-badge.svg\" alt=\"Open In Colab\"/></a>"
      ]
    },
    {
      "cell_type": "code",
      "source": [
        "!pip install deep-translator"
      ],
      "metadata": {
        "colab": {
          "base_uri": "https://localhost:8080/"
        },
        "id": "YQRSdXEieaKI",
        "outputId": "1680aa33-5405-410b-d26d-578e7dce24c4"
      },
      "execution_count": null,
      "outputs": [
        {
          "output_type": "stream",
          "name": "stdout",
          "text": [
            "Looking in indexes: https://pypi.org/simple, https://us-python.pkg.dev/colab-wheels/public/simple/\n",
            "Collecting deep-translator\n",
            "  Downloading deep_translator-1.10.0-py3-none-any.whl (35 kB)\n",
            "Collecting beautifulsoup4<5.0.0,>=4.9.1\n",
            "  Downloading beautifulsoup4-4.11.2-py3-none-any.whl (129 kB)\n",
            "\u001b[2K     \u001b[90m━━━━━━━━━━━━━━━━━━━━━━━━━━━━━━━━━━━━━━\u001b[0m \u001b[32m129.4/129.4 KB\u001b[0m \u001b[31m10.6 MB/s\u001b[0m eta \u001b[36m0:00:00\u001b[0m\n",
            "\u001b[?25hCollecting pypdf[pdf]<4.0.0,>=3.3.0\n",
            "  Downloading pypdf-3.4.0-py3-none-any.whl (241 kB)\n",
            "\u001b[2K     \u001b[90m━━━━━━━━━━━━━━━━━━━━━━━━━━━━━━━━━━━━━━\u001b[0m \u001b[32m241.5/241.5 KB\u001b[0m \u001b[31m23.5 MB/s\u001b[0m eta \u001b[36m0:00:00\u001b[0m\n",
            "\u001b[?25hCollecting docx2txt[docx]<0.9,>=0.8\n",
            "  Downloading docx2txt-0.8.tar.gz (2.8 kB)\n",
            "  Preparing metadata (setup.py) ... \u001b[?25l\u001b[?25hdone\n",
            "Requirement already satisfied: requests<3.0.0,>=2.23.0 in /usr/local/lib/python3.8/dist-packages (from deep-translator) (2.25.1)\n",
            "Collecting soupsieve>1.2\n",
            "  Downloading soupsieve-2.3.2.post1-py3-none-any.whl (37 kB)\n",
            "\u001b[33mWARNING: docx2txt 0.8 does not provide the extra 'docx'\u001b[0m\u001b[33m\n",
            "\u001b[0m\u001b[33mWARNING: pypdf 3.4.0 does not provide the extra 'pdf'\u001b[0m\u001b[33m\n",
            "\u001b[0mRequirement already satisfied: typing_extensions>=3.10.0.0 in /usr/local/lib/python3.8/dist-packages (from pypdf[pdf]<4.0.0,>=3.3.0->deep-translator) (4.4.0)\n",
            "Requirement already satisfied: chardet<5,>=3.0.2 in /usr/local/lib/python3.8/dist-packages (from requests<3.0.0,>=2.23.0->deep-translator) (4.0.0)\n",
            "Requirement already satisfied: urllib3<1.27,>=1.21.1 in /usr/local/lib/python3.8/dist-packages (from requests<3.0.0,>=2.23.0->deep-translator) (1.24.3)\n",
            "Requirement already satisfied: certifi>=2017.4.17 in /usr/local/lib/python3.8/dist-packages (from requests<3.0.0,>=2.23.0->deep-translator) (2022.12.7)\n",
            "Requirement already satisfied: idna<3,>=2.5 in /usr/local/lib/python3.8/dist-packages (from requests<3.0.0,>=2.23.0->deep-translator) (2.10)\n",
            "Building wheels for collected packages: docx2txt\n",
            "  Building wheel for docx2txt (setup.py) ... \u001b[?25l\u001b[?25hdone\n",
            "  Created wheel for docx2txt: filename=docx2txt-0.8-py3-none-any.whl size=3980 sha256=365b6bf3e74a976a24319226fe5f9bfd3a8aac958f7a984b25cd552ad2ccff32\n",
            "  Stored in directory: /root/.cache/pip/wheels/55/f0/2c/81637d42670985178b77df6d41b9b6c6dc18c94818447414b9\n",
            "Successfully built docx2txt\n",
            "Installing collected packages: docx2txt, soupsieve, pypdf, beautifulsoup4, deep-translator\n",
            "  Attempting uninstall: beautifulsoup4\n",
            "    Found existing installation: beautifulsoup4 4.6.3\n",
            "    Uninstalling beautifulsoup4-4.6.3:\n",
            "      Successfully uninstalled beautifulsoup4-4.6.3\n",
            "Successfully installed beautifulsoup4-4.11.2 deep-translator-1.10.0 docx2txt-0.8 pypdf-3.4.0 soupsieve-2.3.2.post1\n"
          ]
        }
      ]
    },
    {
      "cell_type": "code",
      "execution_count": null,
      "metadata": {
        "colab": {
          "base_uri": "https://localhost:8080/"
        },
        "id": "tLh89J2RVGLW",
        "outputId": "cccd70ed-4ccb-4c57-b116-f422e23bb728"
      },
      "outputs": [
        {
          "output_type": "stream",
          "name": "stderr",
          "text": [
            "[nltk_data] Downloading package punkt to /root/nltk_data...\n",
            "[nltk_data]   Unzipping tokenizers/punkt.zip.\n",
            "[nltk_data] Downloading package wordnet to /root/nltk_data...\n"
          ]
        }
      ],
      "source": [
        "import pandas as pd\n",
        "import numpy as np\n",
        "import matplotlib.pyplot as plt\n",
        "import nltk\n",
        "nltk.download('punkt')\n",
        "nltk.download('wordnet')\n",
        "from deep_translator import GoogleTranslator"
      ]
    },
    {
      "cell_type": "code",
      "source": [
        "df=pd.read_csv(\"/content/English.csv\")\n",
        "df"
      ],
      "metadata": {
        "colab": {
          "base_uri": "https://localhost:8080/",
          "height": 423
        },
        "id": "aEEgOqXoX667",
        "outputId": "3cb677fb-09b4-4f1d-bdb1-23ac92fcfba3"
      },
      "execution_count": null,
      "outputs": [
        {
          "output_type": "execute_result",
          "data": {
            "text/plain": [
              "                                  English words/sentences\n",
              "0                                                     Hi.\n",
              "1                                                    Run!\n",
              "2                                                    Run!\n",
              "3                                                    Who?\n",
              "4                                                    Wow!\n",
              "...                                                   ...\n",
              "175616  Top-down economics never works, said Obama. \"T...\n",
              "175617  A carbon footprint is the amount of carbon dio...\n",
              "175618  Death is something that we're often discourage...\n",
              "175619  Since there are usually multiple websites on a...\n",
              "175620  If someone who doesn't know your background sa...\n",
              "\n",
              "[175621 rows x 1 columns]"
            ],
            "text/html": [
              "\n",
              "  <div id=\"df-8473f283-7677-4090-9d39-c6e594a59c98\">\n",
              "    <div class=\"colab-df-container\">\n",
              "      <div>\n",
              "<style scoped>\n",
              "    .dataframe tbody tr th:only-of-type {\n",
              "        vertical-align: middle;\n",
              "    }\n",
              "\n",
              "    .dataframe tbody tr th {\n",
              "        vertical-align: top;\n",
              "    }\n",
              "\n",
              "    .dataframe thead th {\n",
              "        text-align: right;\n",
              "    }\n",
              "</style>\n",
              "<table border=\"1\" class=\"dataframe\">\n",
              "  <thead>\n",
              "    <tr style=\"text-align: right;\">\n",
              "      <th></th>\n",
              "      <th>English words/sentences</th>\n",
              "    </tr>\n",
              "  </thead>\n",
              "  <tbody>\n",
              "    <tr>\n",
              "      <th>0</th>\n",
              "      <td>Hi.</td>\n",
              "    </tr>\n",
              "    <tr>\n",
              "      <th>1</th>\n",
              "      <td>Run!</td>\n",
              "    </tr>\n",
              "    <tr>\n",
              "      <th>2</th>\n",
              "      <td>Run!</td>\n",
              "    </tr>\n",
              "    <tr>\n",
              "      <th>3</th>\n",
              "      <td>Who?</td>\n",
              "    </tr>\n",
              "    <tr>\n",
              "      <th>4</th>\n",
              "      <td>Wow!</td>\n",
              "    </tr>\n",
              "    <tr>\n",
              "      <th>...</th>\n",
              "      <td>...</td>\n",
              "    </tr>\n",
              "    <tr>\n",
              "      <th>175616</th>\n",
              "      <td>Top-down economics never works, said Obama. \"T...</td>\n",
              "    </tr>\n",
              "    <tr>\n",
              "      <th>175617</th>\n",
              "      <td>A carbon footprint is the amount of carbon dio...</td>\n",
              "    </tr>\n",
              "    <tr>\n",
              "      <th>175618</th>\n",
              "      <td>Death is something that we're often discourage...</td>\n",
              "    </tr>\n",
              "    <tr>\n",
              "      <th>175619</th>\n",
              "      <td>Since there are usually multiple websites on a...</td>\n",
              "    </tr>\n",
              "    <tr>\n",
              "      <th>175620</th>\n",
              "      <td>If someone who doesn't know your background sa...</td>\n",
              "    </tr>\n",
              "  </tbody>\n",
              "</table>\n",
              "<p>175621 rows × 1 columns</p>\n",
              "</div>\n",
              "      <button class=\"colab-df-convert\" onclick=\"convertToInteractive('df-8473f283-7677-4090-9d39-c6e594a59c98')\"\n",
              "              title=\"Convert this dataframe to an interactive table.\"\n",
              "              style=\"display:none;\">\n",
              "        \n",
              "  <svg xmlns=\"http://www.w3.org/2000/svg\" height=\"24px\"viewBox=\"0 0 24 24\"\n",
              "       width=\"24px\">\n",
              "    <path d=\"M0 0h24v24H0V0z\" fill=\"none\"/>\n",
              "    <path d=\"M18.56 5.44l.94 2.06.94-2.06 2.06-.94-2.06-.94-.94-2.06-.94 2.06-2.06.94zm-11 1L8.5 8.5l.94-2.06 2.06-.94-2.06-.94L8.5 2.5l-.94 2.06-2.06.94zm10 10l.94 2.06.94-2.06 2.06-.94-2.06-.94-.94-2.06-.94 2.06-2.06.94z\"/><path d=\"M17.41 7.96l-1.37-1.37c-.4-.4-.92-.59-1.43-.59-.52 0-1.04.2-1.43.59L10.3 9.45l-7.72 7.72c-.78.78-.78 2.05 0 2.83L4 21.41c.39.39.9.59 1.41.59.51 0 1.02-.2 1.41-.59l7.78-7.78 2.81-2.81c.8-.78.8-2.07 0-2.86zM5.41 20L4 18.59l7.72-7.72 1.47 1.35L5.41 20z\"/>\n",
              "  </svg>\n",
              "      </button>\n",
              "      \n",
              "  <style>\n",
              "    .colab-df-container {\n",
              "      display:flex;\n",
              "      flex-wrap:wrap;\n",
              "      gap: 12px;\n",
              "    }\n",
              "\n",
              "    .colab-df-convert {\n",
              "      background-color: #E8F0FE;\n",
              "      border: none;\n",
              "      border-radius: 50%;\n",
              "      cursor: pointer;\n",
              "      display: none;\n",
              "      fill: #1967D2;\n",
              "      height: 32px;\n",
              "      padding: 0 0 0 0;\n",
              "      width: 32px;\n",
              "    }\n",
              "\n",
              "    .colab-df-convert:hover {\n",
              "      background-color: #E2EBFA;\n",
              "      box-shadow: 0px 1px 2px rgba(60, 64, 67, 0.3), 0px 1px 3px 1px rgba(60, 64, 67, 0.15);\n",
              "      fill: #174EA6;\n",
              "    }\n",
              "\n",
              "    [theme=dark] .colab-df-convert {\n",
              "      background-color: #3B4455;\n",
              "      fill: #D2E3FC;\n",
              "    }\n",
              "\n",
              "    [theme=dark] .colab-df-convert:hover {\n",
              "      background-color: #434B5C;\n",
              "      box-shadow: 0px 1px 3px 1px rgba(0, 0, 0, 0.15);\n",
              "      filter: drop-shadow(0px 1px 2px rgba(0, 0, 0, 0.3));\n",
              "      fill: #FFFFFF;\n",
              "    }\n",
              "  </style>\n",
              "\n",
              "      <script>\n",
              "        const buttonEl =\n",
              "          document.querySelector('#df-8473f283-7677-4090-9d39-c6e594a59c98 button.colab-df-convert');\n",
              "        buttonEl.style.display =\n",
              "          google.colab.kernel.accessAllowed ? 'block' : 'none';\n",
              "\n",
              "        async function convertToInteractive(key) {\n",
              "          const element = document.querySelector('#df-8473f283-7677-4090-9d39-c6e594a59c98');\n",
              "          const dataTable =\n",
              "            await google.colab.kernel.invokeFunction('convertToInteractive',\n",
              "                                                     [key], {});\n",
              "          if (!dataTable) return;\n",
              "\n",
              "          const docLinkHtml = 'Like what you see? Visit the ' +\n",
              "            '<a target=\"_blank\" href=https://colab.research.google.com/notebooks/data_table.ipynb>data table notebook</a>'\n",
              "            + ' to learn more about interactive tables.';\n",
              "          element.innerHTML = '';\n",
              "          dataTable['output_type'] = 'display_data';\n",
              "          await google.colab.output.renderOutput(dataTable, element);\n",
              "          const docLink = document.createElement('div');\n",
              "          docLink.innerHTML = docLinkHtml;\n",
              "          element.appendChild(docLink);\n",
              "        }\n",
              "      </script>\n",
              "    </div>\n",
              "  </div>\n",
              "  "
            ]
          },
          "metadata": {},
          "execution_count": 3
        }
      ]
    },
    {
      "cell_type": "code",
      "source": [
        "df.head()"
      ],
      "metadata": {
        "colab": {
          "base_uri": "https://localhost:8080/",
          "height": 206
        },
        "id": "wAIBRmzwYf7a",
        "outputId": "30e9ca78-3a6e-4cf8-ea57-dba08f7a42e2"
      },
      "execution_count": null,
      "outputs": [
        {
          "output_type": "execute_result",
          "data": {
            "text/plain": [
              "  English words/sentences\n",
              "0                     Hi.\n",
              "1                    Run!\n",
              "2                    Run!\n",
              "3                    Who?\n",
              "4                    Wow!"
            ],
            "text/html": [
              "\n",
              "  <div id=\"df-d9fa3ef7-59cb-4df9-90fc-6ed76c041fe8\">\n",
              "    <div class=\"colab-df-container\">\n",
              "      <div>\n",
              "<style scoped>\n",
              "    .dataframe tbody tr th:only-of-type {\n",
              "        vertical-align: middle;\n",
              "    }\n",
              "\n",
              "    .dataframe tbody tr th {\n",
              "        vertical-align: top;\n",
              "    }\n",
              "\n",
              "    .dataframe thead th {\n",
              "        text-align: right;\n",
              "    }\n",
              "</style>\n",
              "<table border=\"1\" class=\"dataframe\">\n",
              "  <thead>\n",
              "    <tr style=\"text-align: right;\">\n",
              "      <th></th>\n",
              "      <th>English words/sentences</th>\n",
              "    </tr>\n",
              "  </thead>\n",
              "  <tbody>\n",
              "    <tr>\n",
              "      <th>0</th>\n",
              "      <td>Hi.</td>\n",
              "    </tr>\n",
              "    <tr>\n",
              "      <th>1</th>\n",
              "      <td>Run!</td>\n",
              "    </tr>\n",
              "    <tr>\n",
              "      <th>2</th>\n",
              "      <td>Run!</td>\n",
              "    </tr>\n",
              "    <tr>\n",
              "      <th>3</th>\n",
              "      <td>Who?</td>\n",
              "    </tr>\n",
              "    <tr>\n",
              "      <th>4</th>\n",
              "      <td>Wow!</td>\n",
              "    </tr>\n",
              "  </tbody>\n",
              "</table>\n",
              "</div>\n",
              "      <button class=\"colab-df-convert\" onclick=\"convertToInteractive('df-d9fa3ef7-59cb-4df9-90fc-6ed76c041fe8')\"\n",
              "              title=\"Convert this dataframe to an interactive table.\"\n",
              "              style=\"display:none;\">\n",
              "        \n",
              "  <svg xmlns=\"http://www.w3.org/2000/svg\" height=\"24px\"viewBox=\"0 0 24 24\"\n",
              "       width=\"24px\">\n",
              "    <path d=\"M0 0h24v24H0V0z\" fill=\"none\"/>\n",
              "    <path d=\"M18.56 5.44l.94 2.06.94-2.06 2.06-.94-2.06-.94-.94-2.06-.94 2.06-2.06.94zm-11 1L8.5 8.5l.94-2.06 2.06-.94-2.06-.94L8.5 2.5l-.94 2.06-2.06.94zm10 10l.94 2.06.94-2.06 2.06-.94-2.06-.94-.94-2.06-.94 2.06-2.06.94z\"/><path d=\"M17.41 7.96l-1.37-1.37c-.4-.4-.92-.59-1.43-.59-.52 0-1.04.2-1.43.59L10.3 9.45l-7.72 7.72c-.78.78-.78 2.05 0 2.83L4 21.41c.39.39.9.59 1.41.59.51 0 1.02-.2 1.41-.59l7.78-7.78 2.81-2.81c.8-.78.8-2.07 0-2.86zM5.41 20L4 18.59l7.72-7.72 1.47 1.35L5.41 20z\"/>\n",
              "  </svg>\n",
              "      </button>\n",
              "      \n",
              "  <style>\n",
              "    .colab-df-container {\n",
              "      display:flex;\n",
              "      flex-wrap:wrap;\n",
              "      gap: 12px;\n",
              "    }\n",
              "\n",
              "    .colab-df-convert {\n",
              "      background-color: #E8F0FE;\n",
              "      border: none;\n",
              "      border-radius: 50%;\n",
              "      cursor: pointer;\n",
              "      display: none;\n",
              "      fill: #1967D2;\n",
              "      height: 32px;\n",
              "      padding: 0 0 0 0;\n",
              "      width: 32px;\n",
              "    }\n",
              "\n",
              "    .colab-df-convert:hover {\n",
              "      background-color: #E2EBFA;\n",
              "      box-shadow: 0px 1px 2px rgba(60, 64, 67, 0.3), 0px 1px 3px 1px rgba(60, 64, 67, 0.15);\n",
              "      fill: #174EA6;\n",
              "    }\n",
              "\n",
              "    [theme=dark] .colab-df-convert {\n",
              "      background-color: #3B4455;\n",
              "      fill: #D2E3FC;\n",
              "    }\n",
              "\n",
              "    [theme=dark] .colab-df-convert:hover {\n",
              "      background-color: #434B5C;\n",
              "      box-shadow: 0px 1px 3px 1px rgba(0, 0, 0, 0.15);\n",
              "      filter: drop-shadow(0px 1px 2px rgba(0, 0, 0, 0.3));\n",
              "      fill: #FFFFFF;\n",
              "    }\n",
              "  </style>\n",
              "\n",
              "      <script>\n",
              "        const buttonEl =\n",
              "          document.querySelector('#df-d9fa3ef7-59cb-4df9-90fc-6ed76c041fe8 button.colab-df-convert');\n",
              "        buttonEl.style.display =\n",
              "          google.colab.kernel.accessAllowed ? 'block' : 'none';\n",
              "\n",
              "        async function convertToInteractive(key) {\n",
              "          const element = document.querySelector('#df-d9fa3ef7-59cb-4df9-90fc-6ed76c041fe8');\n",
              "          const dataTable =\n",
              "            await google.colab.kernel.invokeFunction('convertToInteractive',\n",
              "                                                     [key], {});\n",
              "          if (!dataTable) return;\n",
              "\n",
              "          const docLinkHtml = 'Like what you see? Visit the ' +\n",
              "            '<a target=\"_blank\" href=https://colab.research.google.com/notebooks/data_table.ipynb>data table notebook</a>'\n",
              "            + ' to learn more about interactive tables.';\n",
              "          element.innerHTML = '';\n",
              "          dataTable['output_type'] = 'display_data';\n",
              "          await google.colab.output.renderOutput(dataTable, element);\n",
              "          const docLink = document.createElement('div');\n",
              "          docLink.innerHTML = docLinkHtml;\n",
              "          element.appendChild(docLink);\n",
              "        }\n",
              "      </script>\n",
              "    </div>\n",
              "  </div>\n",
              "  "
            ]
          },
          "metadata": {},
          "execution_count": 4
        }
      ]
    },
    {
      "cell_type": "code",
      "source": [
        "df.tail()"
      ],
      "metadata": {
        "colab": {
          "base_uri": "https://localhost:8080/",
          "height": 206
        },
        "id": "whGATiRoYjqX",
        "outputId": "657dbe08-8ccb-4d6d-e117-367990507946"
      },
      "execution_count": null,
      "outputs": [
        {
          "output_type": "execute_result",
          "data": {
            "text/plain": [
              "                                  English words/sentences\n",
              "175616  Top-down economics never works, said Obama. \"T...\n",
              "175617  A carbon footprint is the amount of carbon dio...\n",
              "175618  Death is something that we're often discourage...\n",
              "175619  Since there are usually multiple websites on a...\n",
              "175620  If someone who doesn't know your background sa..."
            ],
            "text/html": [
              "\n",
              "  <div id=\"df-59d94b76-acfc-4911-a98b-0b231b9773b9\">\n",
              "    <div class=\"colab-df-container\">\n",
              "      <div>\n",
              "<style scoped>\n",
              "    .dataframe tbody tr th:only-of-type {\n",
              "        vertical-align: middle;\n",
              "    }\n",
              "\n",
              "    .dataframe tbody tr th {\n",
              "        vertical-align: top;\n",
              "    }\n",
              "\n",
              "    .dataframe thead th {\n",
              "        text-align: right;\n",
              "    }\n",
              "</style>\n",
              "<table border=\"1\" class=\"dataframe\">\n",
              "  <thead>\n",
              "    <tr style=\"text-align: right;\">\n",
              "      <th></th>\n",
              "      <th>English words/sentences</th>\n",
              "    </tr>\n",
              "  </thead>\n",
              "  <tbody>\n",
              "    <tr>\n",
              "      <th>175616</th>\n",
              "      <td>Top-down economics never works, said Obama. \"T...</td>\n",
              "    </tr>\n",
              "    <tr>\n",
              "      <th>175617</th>\n",
              "      <td>A carbon footprint is the amount of carbon dio...</td>\n",
              "    </tr>\n",
              "    <tr>\n",
              "      <th>175618</th>\n",
              "      <td>Death is something that we're often discourage...</td>\n",
              "    </tr>\n",
              "    <tr>\n",
              "      <th>175619</th>\n",
              "      <td>Since there are usually multiple websites on a...</td>\n",
              "    </tr>\n",
              "    <tr>\n",
              "      <th>175620</th>\n",
              "      <td>If someone who doesn't know your background sa...</td>\n",
              "    </tr>\n",
              "  </tbody>\n",
              "</table>\n",
              "</div>\n",
              "      <button class=\"colab-df-convert\" onclick=\"convertToInteractive('df-59d94b76-acfc-4911-a98b-0b231b9773b9')\"\n",
              "              title=\"Convert this dataframe to an interactive table.\"\n",
              "              style=\"display:none;\">\n",
              "        \n",
              "  <svg xmlns=\"http://www.w3.org/2000/svg\" height=\"24px\"viewBox=\"0 0 24 24\"\n",
              "       width=\"24px\">\n",
              "    <path d=\"M0 0h24v24H0V0z\" fill=\"none\"/>\n",
              "    <path d=\"M18.56 5.44l.94 2.06.94-2.06 2.06-.94-2.06-.94-.94-2.06-.94 2.06-2.06.94zm-11 1L8.5 8.5l.94-2.06 2.06-.94-2.06-.94L8.5 2.5l-.94 2.06-2.06.94zm10 10l.94 2.06.94-2.06 2.06-.94-2.06-.94-.94-2.06-.94 2.06-2.06.94z\"/><path d=\"M17.41 7.96l-1.37-1.37c-.4-.4-.92-.59-1.43-.59-.52 0-1.04.2-1.43.59L10.3 9.45l-7.72 7.72c-.78.78-.78 2.05 0 2.83L4 21.41c.39.39.9.59 1.41.59.51 0 1.02-.2 1.41-.59l7.78-7.78 2.81-2.81c.8-.78.8-2.07 0-2.86zM5.41 20L4 18.59l7.72-7.72 1.47 1.35L5.41 20z\"/>\n",
              "  </svg>\n",
              "      </button>\n",
              "      \n",
              "  <style>\n",
              "    .colab-df-container {\n",
              "      display:flex;\n",
              "      flex-wrap:wrap;\n",
              "      gap: 12px;\n",
              "    }\n",
              "\n",
              "    .colab-df-convert {\n",
              "      background-color: #E8F0FE;\n",
              "      border: none;\n",
              "      border-radius: 50%;\n",
              "      cursor: pointer;\n",
              "      display: none;\n",
              "      fill: #1967D2;\n",
              "      height: 32px;\n",
              "      padding: 0 0 0 0;\n",
              "      width: 32px;\n",
              "    }\n",
              "\n",
              "    .colab-df-convert:hover {\n",
              "      background-color: #E2EBFA;\n",
              "      box-shadow: 0px 1px 2px rgba(60, 64, 67, 0.3), 0px 1px 3px 1px rgba(60, 64, 67, 0.15);\n",
              "      fill: #174EA6;\n",
              "    }\n",
              "\n",
              "    [theme=dark] .colab-df-convert {\n",
              "      background-color: #3B4455;\n",
              "      fill: #D2E3FC;\n",
              "    }\n",
              "\n",
              "    [theme=dark] .colab-df-convert:hover {\n",
              "      background-color: #434B5C;\n",
              "      box-shadow: 0px 1px 3px 1px rgba(0, 0, 0, 0.15);\n",
              "      filter: drop-shadow(0px 1px 2px rgba(0, 0, 0, 0.3));\n",
              "      fill: #FFFFFF;\n",
              "    }\n",
              "  </style>\n",
              "\n",
              "      <script>\n",
              "        const buttonEl =\n",
              "          document.querySelector('#df-59d94b76-acfc-4911-a98b-0b231b9773b9 button.colab-df-convert');\n",
              "        buttonEl.style.display =\n",
              "          google.colab.kernel.accessAllowed ? 'block' : 'none';\n",
              "\n",
              "        async function convertToInteractive(key) {\n",
              "          const element = document.querySelector('#df-59d94b76-acfc-4911-a98b-0b231b9773b9');\n",
              "          const dataTable =\n",
              "            await google.colab.kernel.invokeFunction('convertToInteractive',\n",
              "                                                     [key], {});\n",
              "          if (!dataTable) return;\n",
              "\n",
              "          const docLinkHtml = 'Like what you see? Visit the ' +\n",
              "            '<a target=\"_blank\" href=https://colab.research.google.com/notebooks/data_table.ipynb>data table notebook</a>'\n",
              "            + ' to learn more about interactive tables.';\n",
              "          element.innerHTML = '';\n",
              "          dataTable['output_type'] = 'display_data';\n",
              "          await google.colab.output.renderOutput(dataTable, element);\n",
              "          const docLink = document.createElement('div');\n",
              "          docLink.innerHTML = docLinkHtml;\n",
              "          element.appendChild(docLink);\n",
              "        }\n",
              "      </script>\n",
              "    </div>\n",
              "  </div>\n",
              "  "
            ]
          },
          "metadata": {},
          "execution_count": 5
        }
      ]
    },
    {
      "cell_type": "code",
      "source": [
        "df.shape"
      ],
      "metadata": {
        "colab": {
          "base_uri": "https://localhost:8080/"
        },
        "id": "bkQxk_SYYoPn",
        "outputId": "3c99939c-8319-4ab7-8047-7f9e440c6dd7"
      },
      "execution_count": null,
      "outputs": [
        {
          "output_type": "execute_result",
          "data": {
            "text/plain": [
              "(175621, 1)"
            ]
          },
          "metadata": {},
          "execution_count": 6
        }
      ]
    },
    {
      "cell_type": "code",
      "source": [
        "df.columns"
      ],
      "metadata": {
        "colab": {
          "base_uri": "https://localhost:8080/"
        },
        "id": "er1dpPlrZfuF",
        "outputId": "bd00eefc-61f4-40c6-fceb-3af39cbc19dd"
      },
      "execution_count": null,
      "outputs": [
        {
          "output_type": "execute_result",
          "data": {
            "text/plain": [
              "Index(['English words/sentences'], dtype='object')"
            ]
          },
          "metadata": {},
          "execution_count": 7
        }
      ]
    },
    {
      "cell_type": "code",
      "source": [
        "df=pd.DataFrame(df[\"English words/sentences\"].unique()).rename(columns={0:'English Words'})\n",
        "print(df)"
      ],
      "metadata": {
        "colab": {
          "base_uri": "https://localhost:8080/"
        },
        "id": "WQxx2nvXeiKM",
        "outputId": "3e10a09f-c55e-45ce-e219-1c784765e1e1"
      },
      "execution_count": null,
      "outputs": [
        {
          "output_type": "stream",
          "name": "stdout",
          "text": [
            "                                            English Words\n",
            "0                                                     Hi.\n",
            "1                                                    Run!\n",
            "2                                                    Who?\n",
            "3                                                    Wow!\n",
            "4                                                   Fire!\n",
            "...                                                   ...\n",
            "123095  Top-down economics never works, said Obama. \"T...\n",
            "123096  A carbon footprint is the amount of carbon dio...\n",
            "123097  Death is something that we're often discourage...\n",
            "123098  Since there are usually multiple websites on a...\n",
            "123099  If someone who doesn't know your background sa...\n",
            "\n",
            "[123100 rows x 1 columns]\n"
          ]
        }
      ]
    },
    {
      "cell_type": "code",
      "source": [
        "df['English Words'] = df['English Words'].str.replace(\"[^a-zA-Z0-9]\", \" \")"
      ],
      "metadata": {
        "colab": {
          "base_uri": "https://localhost:8080/"
        },
        "id": "Z5OjS-8eZMmH",
        "outputId": "f58c9903-e88c-4e05-810a-b9cadcb78728"
      },
      "execution_count": null,
      "outputs": [
        {
          "output_type": "stream",
          "name": "stderr",
          "text": [
            "<ipython-input-25-6e752d94a8f2>:1: FutureWarning: The default value of regex will change from True to False in a future version.\n",
            "  df['English Words'] = df['English Words'].str.replace(\"[^a-zA-Z0-9]\", \" \")\n"
          ]
        }
      ]
    },
    {
      "cell_type": "code",
      "source": [
        "df['English Words']"
      ],
      "metadata": {
        "colab": {
          "base_uri": "https://localhost:8080/"
        },
        "id": "CxXxUVAcZzRI",
        "outputId": "2caf8e95-6d31-47e8-ee13-39549088d18a"
      },
      "execution_count": null,
      "outputs": [
        {
          "output_type": "execute_result",
          "data": {
            "text/plain": [
              "0                                                       Hi \n",
              "1                                                      Run \n",
              "2                                                      Who \n",
              "3                                                      Wow \n",
              "4                                                     Fire \n",
              "                                ...                        \n",
              "123095    Top down economics never works  said Obama   T...\n",
              "123096    A carbon footprint is the amount of carbon dio...\n",
              "123097    Death is something that we re often discourage...\n",
              "123098    Since there are usually multiple websites on a...\n",
              "123099    If someone who doesn t know your background sa...\n",
              "Name: English Words, Length: 123100, dtype: object"
            ]
          },
          "metadata": {},
          "execution_count": 26
        }
      ]
    },
    {
      "cell_type": "code",
      "source": [
        "df[\"English Words\"].head(50)"
      ],
      "metadata": {
        "colab": {
          "base_uri": "https://localhost:8080/"
        },
        "id": "YPMMUwxogOAV",
        "outputId": "4cdcdd29-3bd5-424a-d499-be15852d97cf"
      },
      "execution_count": null,
      "outputs": [
        {
          "output_type": "execute_result",
          "data": {
            "text/plain": [
              "0          Hi \n",
              "1         Run \n",
              "2         Who \n",
              "3         Wow \n",
              "4        Fire \n",
              "5        Help \n",
              "6        Jump \n",
              "7        Stop \n",
              "8        Wait \n",
              "9       Go on \n",
              "10      Hello \n",
              "11      I see \n",
              "12      I try \n",
              "13      I won \n",
              "14      I won \n",
              "15      Oh no \n",
              "16     Attack \n",
              "17     Cheers \n",
              "18     Get up \n",
              "19     Go now \n",
              "20     Got it \n",
              "21     Got it \n",
              "22     Hop in \n",
              "23     Hug me \n",
              "24     I fell \n",
              "25     I know \n",
              "26     I left \n",
              "27     I lied \n",
              "28     I lost \n",
              "29     I paid \n",
              "30     I m 19 \n",
              "31     I m OK \n",
              "32     Listen \n",
              "33     No way \n",
              "34     Really \n",
              "35     Thanks \n",
              "36     We try \n",
              "37     We won \n",
              "38    Ask Tom \n",
              "39    Awesome \n",
              "40    Be calm \n",
              "41    Be cool \n",
              "42    Be fair \n",
              "43    Be kind \n",
              "44    Be nice \n",
              "45    Beat it \n",
              "46    Call me \n",
              "47    Call us \n",
              "48    Come in \n",
              "49    Come on \n",
              "Name: English Words, dtype: object"
            ]
          },
          "metadata": {},
          "execution_count": 27
        }
      ]
    },
    {
      "cell_type": "code",
      "source": [
        "df[50:100]"
      ],
      "metadata": {
        "colab": {
          "base_uri": "https://localhost:8080/",
          "height": 1000
        },
        "id": "2X7h0-92gWka",
        "outputId": "4e719dd7-c63d-4337-f886-f6cae4c68609"
      },
      "execution_count": null,
      "outputs": [
        {
          "output_type": "execute_result",
          "data": {
            "text/plain": [
              "   English Words\n",
              "50      Come on \n",
              "51      Drop it \n",
              "52      Get Tom \n",
              "53      Get out \n",
              "54      Get out \n",
              "55      Go away \n",
              "56      Go away \n",
              "57      Go home \n",
              "58      Go slow \n",
              "59      Goodbye \n",
              "60      Hang on \n",
              "61      Hang on \n",
              "62      He quit \n",
              "63      He runs \n",
              "64      Help me \n",
              "65      Help me \n",
              "66      Help us \n",
              "67      Hold it \n",
              "68      Hold on \n",
              "69      Hug Tom \n",
              "70      I agree \n",
              "71      I cried \n",
              "72      I dozed \n",
              "73      I drive \n",
              "74      I smoke \n",
              "75      I snore \n",
              "76      I stink \n",
              "77      I stood \n",
              "78      I swore \n",
              "79      I tried \n",
              "80      I waved \n",
              "81      I ll go \n",
              "82      I m Tom \n",
              "83      I m fat \n",
              "84      I m fit \n",
              "85      I m hit \n",
              "86      I m ill \n",
              "87      I m sad \n",
              "88      I m shy \n",
              "89      I m wet \n",
              "90      It s me \n",
              "91      Join us \n",
              "92      Keep it \n",
              "93      Kiss me \n",
              "94      Me  too \n",
              "95      Open up \n",
              "96      Perfect \n",
              "97      See you \n",
              "98      See you \n",
              "99      Show me "
            ],
            "text/html": [
              "\n",
              "  <div id=\"df-06ef295e-2595-4e8b-a3c0-d801b812f0ab\">\n",
              "    <div class=\"colab-df-container\">\n",
              "      <div>\n",
              "<style scoped>\n",
              "    .dataframe tbody tr th:only-of-type {\n",
              "        vertical-align: middle;\n",
              "    }\n",
              "\n",
              "    .dataframe tbody tr th {\n",
              "        vertical-align: top;\n",
              "    }\n",
              "\n",
              "    .dataframe thead th {\n",
              "        text-align: right;\n",
              "    }\n",
              "</style>\n",
              "<table border=\"1\" class=\"dataframe\">\n",
              "  <thead>\n",
              "    <tr style=\"text-align: right;\">\n",
              "      <th></th>\n",
              "      <th>English Words</th>\n",
              "    </tr>\n",
              "  </thead>\n",
              "  <tbody>\n",
              "    <tr>\n",
              "      <th>50</th>\n",
              "      <td>Come on</td>\n",
              "    </tr>\n",
              "    <tr>\n",
              "      <th>51</th>\n",
              "      <td>Drop it</td>\n",
              "    </tr>\n",
              "    <tr>\n",
              "      <th>52</th>\n",
              "      <td>Get Tom</td>\n",
              "    </tr>\n",
              "    <tr>\n",
              "      <th>53</th>\n",
              "      <td>Get out</td>\n",
              "    </tr>\n",
              "    <tr>\n",
              "      <th>54</th>\n",
              "      <td>Get out</td>\n",
              "    </tr>\n",
              "    <tr>\n",
              "      <th>55</th>\n",
              "      <td>Go away</td>\n",
              "    </tr>\n",
              "    <tr>\n",
              "      <th>56</th>\n",
              "      <td>Go away</td>\n",
              "    </tr>\n",
              "    <tr>\n",
              "      <th>57</th>\n",
              "      <td>Go home</td>\n",
              "    </tr>\n",
              "    <tr>\n",
              "      <th>58</th>\n",
              "      <td>Go slow</td>\n",
              "    </tr>\n",
              "    <tr>\n",
              "      <th>59</th>\n",
              "      <td>Goodbye</td>\n",
              "    </tr>\n",
              "    <tr>\n",
              "      <th>60</th>\n",
              "      <td>Hang on</td>\n",
              "    </tr>\n",
              "    <tr>\n",
              "      <th>61</th>\n",
              "      <td>Hang on</td>\n",
              "    </tr>\n",
              "    <tr>\n",
              "      <th>62</th>\n",
              "      <td>He quit</td>\n",
              "    </tr>\n",
              "    <tr>\n",
              "      <th>63</th>\n",
              "      <td>He runs</td>\n",
              "    </tr>\n",
              "    <tr>\n",
              "      <th>64</th>\n",
              "      <td>Help me</td>\n",
              "    </tr>\n",
              "    <tr>\n",
              "      <th>65</th>\n",
              "      <td>Help me</td>\n",
              "    </tr>\n",
              "    <tr>\n",
              "      <th>66</th>\n",
              "      <td>Help us</td>\n",
              "    </tr>\n",
              "    <tr>\n",
              "      <th>67</th>\n",
              "      <td>Hold it</td>\n",
              "    </tr>\n",
              "    <tr>\n",
              "      <th>68</th>\n",
              "      <td>Hold on</td>\n",
              "    </tr>\n",
              "    <tr>\n",
              "      <th>69</th>\n",
              "      <td>Hug Tom</td>\n",
              "    </tr>\n",
              "    <tr>\n",
              "      <th>70</th>\n",
              "      <td>I agree</td>\n",
              "    </tr>\n",
              "    <tr>\n",
              "      <th>71</th>\n",
              "      <td>I cried</td>\n",
              "    </tr>\n",
              "    <tr>\n",
              "      <th>72</th>\n",
              "      <td>I dozed</td>\n",
              "    </tr>\n",
              "    <tr>\n",
              "      <th>73</th>\n",
              "      <td>I drive</td>\n",
              "    </tr>\n",
              "    <tr>\n",
              "      <th>74</th>\n",
              "      <td>I smoke</td>\n",
              "    </tr>\n",
              "    <tr>\n",
              "      <th>75</th>\n",
              "      <td>I snore</td>\n",
              "    </tr>\n",
              "    <tr>\n",
              "      <th>76</th>\n",
              "      <td>I stink</td>\n",
              "    </tr>\n",
              "    <tr>\n",
              "      <th>77</th>\n",
              "      <td>I stood</td>\n",
              "    </tr>\n",
              "    <tr>\n",
              "      <th>78</th>\n",
              "      <td>I swore</td>\n",
              "    </tr>\n",
              "    <tr>\n",
              "      <th>79</th>\n",
              "      <td>I tried</td>\n",
              "    </tr>\n",
              "    <tr>\n",
              "      <th>80</th>\n",
              "      <td>I waved</td>\n",
              "    </tr>\n",
              "    <tr>\n",
              "      <th>81</th>\n",
              "      <td>I ll go</td>\n",
              "    </tr>\n",
              "    <tr>\n",
              "      <th>82</th>\n",
              "      <td>I m Tom</td>\n",
              "    </tr>\n",
              "    <tr>\n",
              "      <th>83</th>\n",
              "      <td>I m fat</td>\n",
              "    </tr>\n",
              "    <tr>\n",
              "      <th>84</th>\n",
              "      <td>I m fit</td>\n",
              "    </tr>\n",
              "    <tr>\n",
              "      <th>85</th>\n",
              "      <td>I m hit</td>\n",
              "    </tr>\n",
              "    <tr>\n",
              "      <th>86</th>\n",
              "      <td>I m ill</td>\n",
              "    </tr>\n",
              "    <tr>\n",
              "      <th>87</th>\n",
              "      <td>I m sad</td>\n",
              "    </tr>\n",
              "    <tr>\n",
              "      <th>88</th>\n",
              "      <td>I m shy</td>\n",
              "    </tr>\n",
              "    <tr>\n",
              "      <th>89</th>\n",
              "      <td>I m wet</td>\n",
              "    </tr>\n",
              "    <tr>\n",
              "      <th>90</th>\n",
              "      <td>It s me</td>\n",
              "    </tr>\n",
              "    <tr>\n",
              "      <th>91</th>\n",
              "      <td>Join us</td>\n",
              "    </tr>\n",
              "    <tr>\n",
              "      <th>92</th>\n",
              "      <td>Keep it</td>\n",
              "    </tr>\n",
              "    <tr>\n",
              "      <th>93</th>\n",
              "      <td>Kiss me</td>\n",
              "    </tr>\n",
              "    <tr>\n",
              "      <th>94</th>\n",
              "      <td>Me  too</td>\n",
              "    </tr>\n",
              "    <tr>\n",
              "      <th>95</th>\n",
              "      <td>Open up</td>\n",
              "    </tr>\n",
              "    <tr>\n",
              "      <th>96</th>\n",
              "      <td>Perfect</td>\n",
              "    </tr>\n",
              "    <tr>\n",
              "      <th>97</th>\n",
              "      <td>See you</td>\n",
              "    </tr>\n",
              "    <tr>\n",
              "      <th>98</th>\n",
              "      <td>See you</td>\n",
              "    </tr>\n",
              "    <tr>\n",
              "      <th>99</th>\n",
              "      <td>Show me</td>\n",
              "    </tr>\n",
              "  </tbody>\n",
              "</table>\n",
              "</div>\n",
              "      <button class=\"colab-df-convert\" onclick=\"convertToInteractive('df-06ef295e-2595-4e8b-a3c0-d801b812f0ab')\"\n",
              "              title=\"Convert this dataframe to an interactive table.\"\n",
              "              style=\"display:none;\">\n",
              "        \n",
              "  <svg xmlns=\"http://www.w3.org/2000/svg\" height=\"24px\"viewBox=\"0 0 24 24\"\n",
              "       width=\"24px\">\n",
              "    <path d=\"M0 0h24v24H0V0z\" fill=\"none\"/>\n",
              "    <path d=\"M18.56 5.44l.94 2.06.94-2.06 2.06-.94-2.06-.94-.94-2.06-.94 2.06-2.06.94zm-11 1L8.5 8.5l.94-2.06 2.06-.94-2.06-.94L8.5 2.5l-.94 2.06-2.06.94zm10 10l.94 2.06.94-2.06 2.06-.94-2.06-.94-.94-2.06-.94 2.06-2.06.94z\"/><path d=\"M17.41 7.96l-1.37-1.37c-.4-.4-.92-.59-1.43-.59-.52 0-1.04.2-1.43.59L10.3 9.45l-7.72 7.72c-.78.78-.78 2.05 0 2.83L4 21.41c.39.39.9.59 1.41.59.51 0 1.02-.2 1.41-.59l7.78-7.78 2.81-2.81c.8-.78.8-2.07 0-2.86zM5.41 20L4 18.59l7.72-7.72 1.47 1.35L5.41 20z\"/>\n",
              "  </svg>\n",
              "      </button>\n",
              "      \n",
              "  <style>\n",
              "    .colab-df-container {\n",
              "      display:flex;\n",
              "      flex-wrap:wrap;\n",
              "      gap: 12px;\n",
              "    }\n",
              "\n",
              "    .colab-df-convert {\n",
              "      background-color: #E8F0FE;\n",
              "      border: none;\n",
              "      border-radius: 50%;\n",
              "      cursor: pointer;\n",
              "      display: none;\n",
              "      fill: #1967D2;\n",
              "      height: 32px;\n",
              "      padding: 0 0 0 0;\n",
              "      width: 32px;\n",
              "    }\n",
              "\n",
              "    .colab-df-convert:hover {\n",
              "      background-color: #E2EBFA;\n",
              "      box-shadow: 0px 1px 2px rgba(60, 64, 67, 0.3), 0px 1px 3px 1px rgba(60, 64, 67, 0.15);\n",
              "      fill: #174EA6;\n",
              "    }\n",
              "\n",
              "    [theme=dark] .colab-df-convert {\n",
              "      background-color: #3B4455;\n",
              "      fill: #D2E3FC;\n",
              "    }\n",
              "\n",
              "    [theme=dark] .colab-df-convert:hover {\n",
              "      background-color: #434B5C;\n",
              "      box-shadow: 0px 1px 3px 1px rgba(0, 0, 0, 0.15);\n",
              "      filter: drop-shadow(0px 1px 2px rgba(0, 0, 0, 0.3));\n",
              "      fill: #FFFFFF;\n",
              "    }\n",
              "  </style>\n",
              "\n",
              "      <script>\n",
              "        const buttonEl =\n",
              "          document.querySelector('#df-06ef295e-2595-4e8b-a3c0-d801b812f0ab button.colab-df-convert');\n",
              "        buttonEl.style.display =\n",
              "          google.colab.kernel.accessAllowed ? 'block' : 'none';\n",
              "\n",
              "        async function convertToInteractive(key) {\n",
              "          const element = document.querySelector('#df-06ef295e-2595-4e8b-a3c0-d801b812f0ab');\n",
              "          const dataTable =\n",
              "            await google.colab.kernel.invokeFunction('convertToInteractive',\n",
              "                                                     [key], {});\n",
              "          if (!dataTable) return;\n",
              "\n",
              "          const docLinkHtml = 'Like what you see? Visit the ' +\n",
              "            '<a target=\"_blank\" href=https://colab.research.google.com/notebooks/data_table.ipynb>data table notebook</a>'\n",
              "            + ' to learn more about interactive tables.';\n",
              "          element.innerHTML = '';\n",
              "          dataTable['output_type'] = 'display_data';\n",
              "          await google.colab.output.renderOutput(dataTable, element);\n",
              "          const docLink = document.createElement('div');\n",
              "          docLink.innerHTML = docLinkHtml;\n",
              "          element.appendChild(docLink);\n",
              "        }\n",
              "      </script>\n",
              "    </div>\n",
              "  </div>\n",
              "  "
            ]
          },
          "metadata": {},
          "execution_count": 28
        }
      ]
    },
    {
      "cell_type": "code",
      "source": [
        "def Translate(rev):\n",
        "    translation_tokenized = GoogleTranslator(source='english', target='fr').translate(rev)\n",
        "    return translation_tokenized"
      ],
      "metadata": {
        "id": "gYTWCuh9gg8K"
      },
      "execution_count": null,
      "outputs": []
    },
    {
      "cell_type": "code",
      "source": [
        "Trans_French_Words = [Translate(r) for r in df[\"English Words\"].head(60)]\n",
        "Trans_French_Words"
      ],
      "metadata": {
        "colab": {
          "base_uri": "https://localhost:8080/"
        },
        "id": "4qKbrVxCs1jS",
        "outputId": "5a4fe339-0bc2-4681-d4c0-4fc68d636c88"
      },
      "execution_count": null,
      "outputs": [
        {
          "output_type": "execute_result",
          "data": {
            "text/plain": [
              "['Salut',\n",
              " 'Courir',\n",
              " 'OMS',\n",
              " 'Ouah',\n",
              " 'Feu',\n",
              " 'Aider',\n",
              " 'Saut',\n",
              " 'Arrêt',\n",
              " 'Attendez',\n",
              " 'Continue',\n",
              " 'Bonjour',\n",
              " 'Je vois',\n",
              " \"J'essaye\",\n",
              " \"J'ai gagné\",\n",
              " \"J'ai gagné\",\n",
              " 'Oh non',\n",
              " 'Attaque',\n",
              " 'Acclamations',\n",
              " 'Se lever',\n",
              " 'Allez maintenant',\n",
              " \"J'ai compris\",\n",
              " \"J'ai compris\",\n",
              " 'Monter dedans',\n",
              " 'HUG Me',\n",
              " 'je suis tombé',\n",
              " 'Je sais',\n",
              " 'Je suis parti',\n",
              " \"j'ai menti\",\n",
              " \"J'ai perdu\",\n",
              " \"j'ai payé\",\n",
              " \"J'ai 19 ans\",\n",
              " 'Je vais bien',\n",
              " 'Écouter',\n",
              " 'Certainement pas',\n",
              " 'Vraiment',\n",
              " 'Merci',\n",
              " 'Nous essayons',\n",
              " 'Nous avons gagné',\n",
              " 'Demander à Tom',\n",
              " 'Génial',\n",
              " 'Sois calme',\n",
              " 'Soit cool',\n",
              " 'Être juste',\n",
              " 'Etre gentil',\n",
              " 'Sois gentil',\n",
              " 'Batte-le',\n",
              " 'Appelez-moi',\n",
              " 'Appelez-nous',\n",
              " 'Entrez',\n",
              " 'Allez',\n",
              " 'Allez',\n",
              " 'Laisse tomber',\n",
              " 'Obtenez Tom',\n",
              " 'Sortir',\n",
              " 'Sortir',\n",
              " \"S'en aller\",\n",
              " \"S'en aller\",\n",
              " 'rentrer chez soi',\n",
              " 'Va lentement',\n",
              " 'Au revoir']"
            ]
          },
          "metadata": {},
          "execution_count": 34
        }
      ]
    },
    {
      "cell_type": "code",
      "source": [
        "Trans_French_Sentence = [Translate(r) for r in df[\"English Words\"].tail(10)]\n",
        "Trans_French_Sentence"
      ],
      "metadata": {
        "colab": {
          "base_uri": "https://localhost:8080/"
        },
        "id": "BsyhtKmotOB1",
        "outputId": "f6487b36-5ffa-43ac-ca5c-2e0859d228ab"
      },
      "execution_count": null,
      "outputs": [
        {
          "output_type": "execute_result",
          "data": {
            "text/plain": [
              "[\"Cinq tremblements de magnitude supérieure à 5 0 sur l'échelle de Richter ont secoué le Japon cette semaine, mais les scientifiques préviennent que la plus grande réplique attendue n'a pas encore frappé\",\n",
              " \"Peu importe à quel point vous essayez de convaincre les gens que le chocolat est de la vanille, ce sera toujours du chocolat, même si vous parvenez à vous convaincre, ainsi que quelques autres, que c'est de la vanille.\",\n",
              " \"Un enfant qui est un locuteur natif sait généralement beaucoup de choses sur sa langue qu'un locuteur non natif qui étudie depuis des années ne sait toujours pas et ne saura peut-être jamais\",\n",
              " \"Il existe quatre causes principales de décès liés à l'alcool. Les blessures causées par des accidents de voiture ou la violence en sont une. Des maladies comme la cirrhose du foie, le cancer du cœur et les maladies du système sanguin sont les autres.\",\n",
              " \"Nous devons faire respecter les lois contre la discrimination à l'embauche, au logement, à l'éducation et dans le système de justice pénale C'est ce que notre Constitution et nos idéaux les plus élevés exigent\",\n",
              " \"L'économie descendante ne fonctionne jamais, a déclaré Obama Le pays ne réussit pas lorsque seuls ceux qui sont au sommet se portent bien Nous réussissons lorsque la classe moyenne s'agrandit lorsqu'elle se sent plus en sécurité\",\n",
              " \"Une empreinte carbone est la quantité de dioxyde de carbone que nous produisons à la suite de nos activités Certaines personnes essaient de réduire leur empreinte carbone parce qu'elles sont préoccupées par le changement climatique\",\n",
              " \"La mort est quelque chose dont nous sommes souvent découragés de parler ou même de penser, mais j'ai réalisé que se préparer à la mort est l'une des choses les plus stimulantes que vous puissiez faire Penser à la mort clarifie votre vie\",\n",
              " \"Comme il existe généralement plusieurs sites Web sur un sujet donné, je clique généralement sur le bouton de retour lorsque j'arrive sur une page Web contenant des publicités contextuelles. Je vais simplement à la page suivante trouvée par Google et j'espère quelque chose de moins irritant.\",\n",
              " \"Si quelqu'un qui ne connaît pas vos antécédents dit que vous parlez comme un locuteur natif, cela signifie qu'il a probablement remarqué quelque chose dans votre façon de parler qui lui a fait réaliser que vous n'étiez pas un locuteur natif. En d'autres termes, vous ne parlez pas vraiment comme un locuteur natif.\"]"
            ]
          },
          "metadata": {},
          "execution_count": 38
        }
      ]
    },
    {
      "cell_type": "code",
      "source": [
        "def Translate_De(rev):\n",
        "    translation_tokenized = GoogleTranslator(source='english', target='de').translate(rev)\n",
        "    return translation_tokenized"
      ],
      "metadata": {
        "id": "QBLHZxVcuZSG"
      },
      "execution_count": null,
      "outputs": []
    },
    {
      "cell_type": "code",
      "source": [
        "Trans_German_Words = [Translate_De(r) for r in df[\"English Words\"].head(20)]\n",
        "Trans_German_Words"
      ],
      "metadata": {
        "colab": {
          "base_uri": "https://localhost:8080/"
        },
        "id": "HzTWt0BNufVp",
        "outputId": "30372616-3520-42c6-d39c-5c41cbf7e0c8"
      },
      "execution_count": null,
      "outputs": [
        {
          "output_type": "execute_result",
          "data": {
            "text/plain": [
              "['Hallo',\n",
              " 'Laufen',\n",
              " 'WHO',\n",
              " 'Wow',\n",
              " 'Feuer',\n",
              " 'Hilfe',\n",
              " 'Springen',\n",
              " 'Stoppen',\n",
              " 'Warten',\n",
              " 'Mach weiter',\n",
              " 'Hallo',\n",
              " 'Ich verstehe',\n",
              " 'ich versuche',\n",
              " 'ich habe gewonnen',\n",
              " 'ich habe gewonnen',\n",
              " 'Ach nein',\n",
              " 'Attacke',\n",
              " 'Beifall',\n",
              " 'Aufstehen',\n",
              " 'Geh jetzt']"
            ]
          },
          "metadata": {},
          "execution_count": 41
        }
      ]
    },
    {
      "cell_type": "code",
      "source": [
        "Trans_German_Sentence = [Translate_De(r) for r in df[\"English Words\"].tail(10)]\n",
        "Trans_German_Sentence"
      ],
      "metadata": {
        "colab": {
          "base_uri": "https://localhost:8080/"
        },
        "id": "tPKSq0R8uszD",
        "outputId": "fe03d49f-d2c6-4be4-f5fb-1920efc99c99"
      },
      "execution_count": null,
      "outputs": [
        {
          "output_type": "execute_result",
          "data": {
            "text/plain": [
              "['Fünf Erschütterungen mit einer Stärke von über 50 auf der Richterskala haben Japan erst diese Woche erschüttert, aber Wissenschaftler warnen davor, dass das größte erwartete Nachbeben noch aussteht',\n",
              " 'Egal wie sehr Sie versuchen, die Leute davon zu überzeugen, dass Schokolade Vanille ist, es wird immer noch Schokolade sein, auch wenn Sie es schaffen, sich selbst und ein paar andere davon zu überzeugen, dass es Vanille ist',\n",
              " 'Ein Kind, das Muttersprachler ist, weiß normalerweise viele Dinge über seine Sprache, die ein Nicht-Muttersprachler, der jahrelang studiert hat, noch nicht weiß und vielleicht nie wissen wird',\n",
              " 'Es gibt vier Hauptursachen für alkoholbedingte Todesfälle. Verletzungen durch Autounfälle oder Gewalt sind eine, Krankheiten wie Leberzirrhose, Krebs, Herz- und Blutsystemerkrankungen sind die anderen',\n",
              " 'Wir müssen Gesetze gegen Diskriminierung bei der Einstellung und beim Wohnen, im Bildungswesen und im Strafjustizsystem aufrechterhalten. Das verlangen unsere Verfassung und unsere höchsten Ideale',\n",
              " 'Top-down-Ökonomie funktioniert nie, sagte Obama. Das Land hat keinen Erfolg, wenn es nur den ganz oben gut geht. Wir haben Erfolg, wenn die Mittelklasse größer wird, wenn sie sich sicherer fühlt',\n",
              " 'Ein CO2-Fußabdruck ist die Menge an Kohlendioxidverschmutzung, die wir als Ergebnis unserer Aktivitäten verursachen. Manche Menschen versuchen, ihren CO2-Fußabdruck zu verringern, weil sie sich Sorgen um den Klimawandel machen',\n",
              " 'Der Tod ist etwas, von dem wir oft entmutigt sind, darüber zu sprechen oder auch nur darüber nachzudenken, aber ich habe erkannt, dass die Vorbereitung auf den Tod eines der ermächtigendsten Dinge ist, die Sie tun können. An den Tod zu denken, klärt Ihr Leben',\n",
              " 'Da es normalerweise mehrere Websites zu einem bestimmten Thema gibt, klicke ich normalerweise einfach auf die Schaltfläche „Zurück“, wenn ich auf einer Webseite mit Popup-Werbung ankomme. Ich gehe einfach zur nächsten von Google gefundenen Seite und hoffe auf etwas weniger Irritierendes',\n",
              " 'Wenn jemand, der Ihren Hintergrund nicht kennt, sagt, dass Sie sich wie ein Muttersprachler anhören, bedeutet dies, dass er wahrscheinlich etwas an Ihrem Sprechen bemerkt hat, das ihm klar gemacht hat, dass Sie kein Muttersprachler sind. Mit anderen Worten, Sie klingen nicht wirklich wie ein Muttersprachler']"
            ]
          },
          "metadata": {},
          "execution_count": 44
        }
      ]
    },
    {
      "cell_type": "code",
      "source": [
        "def Translate_Es(rev):\n",
        "    translation_tokenized = GoogleTranslator(source='english', target='es').translate(rev)\n",
        "    return translation_tokenized"
      ],
      "metadata": {
        "id": "26unhupBvFU6"
      },
      "execution_count": null,
      "outputs": []
    },
    {
      "cell_type": "code",
      "source": [
        "Trans_Spanish_Words = [Translate_Es(r) for r in df[\"English Words\"].head(30)]\n",
        "Trans_Spanish_Words"
      ],
      "metadata": {
        "colab": {
          "base_uri": "https://localhost:8080/"
        },
        "id": "0QFnVx2mvOBx",
        "outputId": "f931d5dd-8609-4e71-ca69-69a6e431df09"
      },
      "execution_count": null,
      "outputs": [
        {
          "output_type": "execute_result",
          "data": {
            "text/plain": [
              "['Hola',\n",
              " 'Correr',\n",
              " 'OMS',\n",
              " 'Guau',\n",
              " 'Fuego',\n",
              " 'Ayuda',\n",
              " 'Saltar',\n",
              " 'Detener',\n",
              " 'Esperar',\n",
              " 'Seguir',\n",
              " 'Hola',\n",
              " 'Veo',\n",
              " 'lo intento',\n",
              " 'gané',\n",
              " 'gané',\n",
              " 'Oh, no',\n",
              " 'Ataque',\n",
              " 'Salud',\n",
              " 'Levantarse',\n",
              " 'Ve ahora',\n",
              " 'Entiendo',\n",
              " 'Entiendo',\n",
              " 'súbete',\n",
              " 'Abrázame',\n",
              " 'Me caí',\n",
              " 'Sé',\n",
              " 'me fui',\n",
              " 'mentí',\n",
              " 'perdí',\n",
              " 'He pagado']"
            ]
          },
          "metadata": {},
          "execution_count": 47
        }
      ]
    },
    {
      "cell_type": "code",
      "source": [
        "Trans_Spanish_Sentence = [Translate_Es(r) for r in df[\"English Words\"].tail(10)]\n",
        "Trans_Spanish_Sentence"
      ],
      "metadata": {
        "colab": {
          "base_uri": "https://localhost:8080/"
        },
        "id": "Tu1yXx4qvZ7n",
        "outputId": "fb09408d-978e-403e-8f87-7ad7a4d8f388"
      },
      "execution_count": null,
      "outputs": [
        {
          "output_type": "execute_result",
          "data": {
            "text/plain": [
              "['Cinco temblores de magnitud superior a 50 en la escala de Richter sacudieron Japón esta semana, pero los científicos advierten que la mayor réplica esperada aún no se ha producido.',\n",
              " 'No importa cuánto intente convencer a la gente de que el chocolate es vainilla, seguirá siendo chocolate, aunque pueda convencerse a sí mismo y a algunos otros de que es vainilla.',\n",
              " 'Un niño que es hablante nativo por lo general sabe muchas cosas sobre su idioma que un hablante no nativo que ha estado estudiando durante años todavía no sabe y quizás nunca sabrá.',\n",
              " 'Hay cuatro causas principales de muerte relacionadas con el alcohol. Las lesiones por accidentes automovilísticos o violencia son una. Las enfermedades como la cirrosis del hígado. El cáncer. Las enfermedades del corazón y del sistema sanguíneo son las otras.',\n",
              " 'Necesitamos defender las leyes contra la discriminación en la contratación y en la vivienda y en la educación y en el sistema de justicia penal. Eso es lo que exige nuestra Constitución y nuestros más altos ideales.',\n",
              " 'La economía de arriba hacia abajo nunca funciona, dijo Obama. El país no tiene éxito cuando solo a los que están en la cima les va bien. Tenemos éxito cuando la clase media crece cuando se siente más segura.',\n",
              " 'Una huella de carbono es la cantidad de contaminación por dióxido de carbono que producimos como resultado de nuestras actividades. Algunas personas intentan reducir su huella de carbono porque les preocupa el cambio climático.',\n",
              " 'La muerte es algo de lo que a menudo nos desanimamos a hablar o incluso pensar, pero me he dado cuenta de que prepararse para la muerte es una de las cosas más poderosas que puedes hacer. Pensar en la muerte aclara tu vida.',\n",
              " 'Dado que generalmente hay varios sitios web sobre un tema determinado, generalmente solo hago clic en el botón Atrás cuando llego a cualquier página web que tiene publicidad emergente. Simplemente voy a la siguiente página que encuentra Google y espero algo menos irritante.',\n",
              " 'Si alguien que no conoce tus antecedentes dice que hablas como un hablante nativo, significa que probablemente notó algo en tu forma de hablar que les hizo darse cuenta de que no eras un hablante nativo. En otras palabras, realmente no suenas como un hablante nativo.']"
            ]
          },
          "metadata": {},
          "execution_count": 48
        }
      ]
    }
  ]
}