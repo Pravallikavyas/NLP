{
  "nbformat": 4,
  "nbformat_minor": 0,
  "metadata": {
    "colab": {
      "provenance": [],
      "authorship_tag": "ABX9TyMu/61da5ML/DNTpQdR+gtN",
      "include_colab_link": true
    },
    "kernelspec": {
      "name": "python3",
      "display_name": "Python 3"
    },
    "language_info": {
      "name": "python"
    }
  },
  "cells": [
    {
      "cell_type": "markdown",
      "metadata": {
        "id": "view-in-github",
        "colab_type": "text"
      },
      "source": [
        "<a href=\"https://colab.research.google.com/github/Pravallikavyas/NLP/blob/main/nlpspellcheck.ipynb\" target=\"_parent\"><img src=\"https://colab.research.google.com/assets/colab-badge.svg\" alt=\"Open In Colab\"/></a>"
      ]
    },
    {
      "cell_type": "code",
      "execution_count": 1,
      "metadata": {
        "colab": {
          "base_uri": "https://localhost:8080/"
        },
        "id": "1mkPo_cxxWq4",
        "outputId": "26d689f0-36bb-4e01-d272-76b731ee30f9"
      },
      "outputs": [
        {
          "output_type": "stream",
          "name": "stdout",
          "text": [
            "Looking in indexes: https://pypi.org/simple, https://us-python.pkg.dev/colab-wheels/public/simple/\n",
            "Collecting pyspellchecker\n",
            "  Downloading pyspellchecker-0.7.1-py3-none-any.whl (2.5 MB)\n",
            "\u001b[2K     \u001b[90m━━━━━━━━━━━━━━━━━━━━━━━━━━━━━━━━━━━━━━━━\u001b[0m \u001b[32m2.5/2.5 MB\u001b[0m \u001b[31m56.5 MB/s\u001b[0m eta \u001b[36m0:00:00\u001b[0m\n",
            "\u001b[?25hInstalling collected packages: pyspellchecker\n",
            "Successfully installed pyspellchecker-0.7.1\n"
          ]
        }
      ],
      "source": [
        "!pip install pyspellchecker"
      ]
    },
    {
      "cell_type": "code",
      "source": [
        "from spellchecker import SpellChecker\n",
        "specheck = SpellChecker()\n",
        "misspelled_words = specheck.unknown([\"cmputr\", \"watr\", \"wriet\", \"athist\", \"acceptible\", \"benifit\", \"acommodate\", \"amatuer\", \"acknowlege\", \"becomeing\", \n",
        "                            \"camoflague\", \"catagory\", \"cauhgt\", \"cematery\", \"apparrent\", \"congradulate\", \"conceed\", \"definit\", \"disasterous\", \"dilema\",\n",
        "                            \"equiptment \", \"excede\", \"experiance\", \"innoculate\", \"extreem\", \"guage\", \"gratful\", \"guidence\", \"heirarchy\", \"dumbell\",\n",
        "                            \"necessery\", \"inteligence\", \"kernal\", \"libary\", \"outragous\", \"marshmellow\", \"miniture\", \"medeval\", \"nieghbor\", \"origenal\"])\n",
        "for word in misspelled_words:\n",
        "    print(specheck.correction(word))"
      ],
      "metadata": {
        "colab": {
          "base_uri": "https://localhost:8080/"
        },
        "id": "zIXVLW9xxenH",
        "outputId": "8f6a51c2-ff8a-4dee-ef0f-d5b828b0cf9d"
      },
      "execution_count": 2,
      "outputs": [
        {
          "output_type": "stream",
          "name": "stdout",
          "text": [
            "medieval\n",
            "accommodate\n",
            "extreme\n",
            "apparent\n",
            "becoming\n",
            "acceptable\n",
            "camouflage\n",
            "dumbbell\n",
            "library\n",
            "water\n",
            "intelligence\n",
            "exceed\n",
            "kernel\n",
            "original\n",
            "atheist\n",
            "concede\n",
            "necessary\n",
            "inoculate\n",
            "experience\n",
            "disastrous\n",
            "congratulate\n",
            "grateful\n",
            "caught\n",
            "outrageous\n",
            "marshmallow\n",
            "dilemma\n",
            "acknowledge\n",
            "computer\n",
            "benefit\n",
            "equipment\n",
            "hierarchy\n",
            "definite\n",
            "category\n",
            "cemetery\n",
            "write\n",
            "gauge\n",
            "guidance\n",
            "miniature\n",
            "amateur\n",
            "neighbor\n"
          ]
        }
      ]
    },
    {
      "cell_type": "code",
      "source": [
        "pip install TextBlob"
      ],
      "metadata": {
        "colab": {
          "base_uri": "https://localhost:8080/"
        },
        "id": "chW9hOsP5l5U",
        "outputId": "98817258-2006-43a4-b12d-7f78f0196f90"
      },
      "execution_count": 3,
      "outputs": [
        {
          "output_type": "stream",
          "name": "stdout",
          "text": [
            "Looking in indexes: https://pypi.org/simple, https://us-python.pkg.dev/colab-wheels/public/simple/\n",
            "Requirement already satisfied: TextBlob in /usr/local/lib/python3.8/dist-packages (0.15.3)\n",
            "Requirement already satisfied: nltk>=3.1 in /usr/local/lib/python3.8/dist-packages (from TextBlob) (3.7)\n",
            "Requirement already satisfied: tqdm in /usr/local/lib/python3.8/dist-packages (from nltk>=3.1->TextBlob) (4.64.1)\n",
            "Requirement already satisfied: joblib in /usr/local/lib/python3.8/dist-packages (from nltk>=3.1->TextBlob) (1.2.0)\n",
            "Requirement already satisfied: click in /usr/local/lib/python3.8/dist-packages (from nltk>=3.1->TextBlob) (7.1.2)\n",
            "Requirement already satisfied: regex>=2021.8.3 in /usr/local/lib/python3.8/dist-packages (from nltk>=3.1->TextBlob) (2022.6.2)\n"
          ]
        }
      ]
    },
    {
      "cell_type": "code",
      "source": [
        "from textblob import TextBlob\n",
        "sentences=[\"I am the begt spell cherken\",\"Watre fell on my computr\",\"Athiest is one who does not beleve in God\",\"I am extreemly greatful to you\",\"Is this reelly necessery?\",\"I am in a real dilema whether to buy flourescent bulb or a LED bulb\",\"He conceeded defeat and congradulated the winner\",\"His nieghbor has a libary at the end of this streat\",\"He perfomed well in Miniture Golf and exceded everyone's expectation\",\"Due to heavy rains, the brige colapsed and resulted in a number of casulities\",\"Pationce is a vitue\",\"Taking a week-long vacaton would braek the bank. There’s no way I could aford to do it\",\"The traffic cop receves kicbacks for not writting tickets to politicians\",\"The Louvre Musem in Paris has the genuin Mona Lisa\"]\n",
        "for i in sentences:\n",
        " sentence=TextBlob(i)\n",
        " result=sentence.correct()\n",
        " print(result)"
      ],
      "metadata": {
        "colab": {
          "base_uri": "https://localhost:8080/"
        },
        "id": "oQCIXvkW5xuE",
        "outputId": "15b5344a-fa11-4b70-b2f4-2345c67c23ec"
      },
      "execution_count": 6,
      "outputs": [
        {
          "output_type": "stream",
          "name": "stdout",
          "text": [
            "I am the best spell checked\n",
            "Are fell on my computer\n",
            "Thirst is one who does not believe in God\n",
            "I am extremely dreadful to you\n",
            "Is this really necessary?\n",
            "I am in a real dilemma whether to buy flourescent bulb or a LED bulb\n",
            "He conceded defeat and congratulated the winner\n",
            "His neighbor has a library at the end of this street\n",
            "He performed well in Tincture Wolf and exceeded everyone's expectation\n",
            "Due to heavy rains, the bridge collapsed and resulted in a number of casualties\n",
            "Patience is a virtue\n",
            "Taking a week-long vacation would break the bank. There’s no way I could afford to do it\n",
            "The traffic cop receives kicbacks for not writing tickets to politicians\n",
            "The Pauvre Use in Paris has the genuine On Isa\n"
          ]
        }
      ]
    }
  ]
}